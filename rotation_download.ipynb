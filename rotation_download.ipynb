{
 "cells": [
  {
   "cell_type": "code",
   "execution_count": null,
   "metadata": {},
   "outputs": [
    {
     "name": "stdout",
     "output_type": "stream",
     "text": [
      "https://raw.githubusercontent.com/gabriel1200/shot_data/refs/heads/master/rotations/2014_ps/1610612737.csv\n",
      "https://raw.githubusercontent.com/gabriel1200/shot_data/refs/heads/master/rotations/2014_ps/1610612751.csv\n",
      "https://raw.githubusercontent.com/gabriel1200/shot_data/refs/heads/master/rotations/2014_ps/1610612738.csv\n",
      "https://raw.githubusercontent.com/gabriel1200/shot_data/refs/heads/master/rotations/2014_ps/1610612766.csv\n",
      "https://raw.githubusercontent.com/gabriel1200/shot_data/refs/heads/master/rotations/2014_ps/1610612741.csv\n",
      "https://raw.githubusercontent.com/gabriel1200/shot_data/refs/heads/master/rotations/2014_ps/1610612739.csv\n",
      "https://raw.githubusercontent.com/gabriel1200/shot_data/refs/heads/master/rotations/2014_ps/1610612742.csv\n",
      "https://raw.githubusercontent.com/gabriel1200/shot_data/refs/heads/master/rotations/2014_ps/1610612743.csv\n",
      "https://raw.githubusercontent.com/gabriel1200/shot_data/refs/heads/master/rotations/2014_ps/1610612765.csv\n",
      "https://raw.githubusercontent.com/gabriel1200/shot_data/refs/heads/master/rotations/2014_ps/1610612744.csv\n",
      "https://raw.githubusercontent.com/gabriel1200/shot_data/refs/heads/master/rotations/2014_ps/1610612745.csv\n",
      "https://raw.githubusercontent.com/gabriel1200/shot_data/refs/heads/master/rotations/2014_ps/1610612754.csv\n",
      "https://raw.githubusercontent.com/gabriel1200/shot_data/refs/heads/master/rotations/2014_ps/1610612746.csv\n",
      "https://raw.githubusercontent.com/gabriel1200/shot_data/refs/heads/master/rotations/2014_ps/1610612747.csv\n",
      "https://raw.githubusercontent.com/gabriel1200/shot_data/refs/heads/master/rotations/2014_ps/1610612763.csv\n",
      "https://raw.githubusercontent.com/gabriel1200/shot_data/refs/heads/master/rotations/2014_ps/1610612748.csv\n",
      "https://raw.githubusercontent.com/gabriel1200/shot_data/refs/heads/master/rotations/2014_ps/1610612749.csv\n",
      "https://raw.githubusercontent.com/gabriel1200/shot_data/refs/heads/master/rotations/2014_ps/1610612750.csv\n",
      "https://raw.githubusercontent.com/gabriel1200/shot_data/refs/heads/master/rotations/2014_ps/1610612740.csv\n",
      "https://raw.githubusercontent.com/gabriel1200/shot_data/refs/heads/master/rotations/2014_ps/1610612752.csv\n",
      "https://raw.githubusercontent.com/gabriel1200/shot_data/refs/heads/master/rotations/2014_ps/1610612760.csv\n",
      "https://raw.githubusercontent.com/gabriel1200/shot_data/refs/heads/master/rotations/2014_ps/1610612753.csv\n",
      "https://raw.githubusercontent.com/gabriel1200/shot_data/refs/heads/master/rotations/2014_ps/1610612755.csv\n",
      "https://raw.githubusercontent.com/gabriel1200/shot_data/refs/heads/master/rotations/2014_ps/1610612756.csv\n",
      "https://raw.githubusercontent.com/gabriel1200/shot_data/refs/heads/master/rotations/2014_ps/1610612757.csv\n",
      "https://raw.githubusercontent.com/gabriel1200/shot_data/refs/heads/master/rotations/2014_ps/1610612758.csv\n",
      "https://raw.githubusercontent.com/gabriel1200/shot_data/refs/heads/master/rotations/2014_ps/1610612759.csv\n",
      "https://raw.githubusercontent.com/gabriel1200/shot_data/refs/heads/master/rotations/2014_ps/1610612761.csv\n",
      "https://raw.githubusercontent.com/gabriel1200/shot_data/refs/heads/master/rotations/2014_ps/1610612762.csv\n",
      "https://raw.githubusercontent.com/gabriel1200/shot_data/refs/heads/master/rotations/2014_ps/1610612764.csv\n"
     ]
    },
    {
     "ename": "ValueError",
     "evalue": "No objects to concatenate",
     "output_type": "error",
     "traceback": [
      "\u001b[0;31m---------------------------------------------------------------------------\u001b[0m",
      "\u001b[0;31mValueError\u001b[0m                                Traceback (most recent call last)",
      "Cell \u001b[0;32mIn[4], line 49\u001b[0m\n\u001b[1;32m     45\u001b[0m         rotations_df \u001b[38;5;241m=\u001b[39m pd\u001b[38;5;241m.\u001b[39mconcat(rotations)\n\u001b[1;32m     48\u001b[0m         rotations_df\u001b[38;5;241m.\u001b[39mto_csv(\u001b[38;5;124mf\u001b[39m\u001b[38;5;124m\"\u001b[39m\u001b[38;5;132;01m{\u001b[39;00myear\u001b[38;5;132;01m}\u001b[39;00m\u001b[38;5;132;01m{\u001b[39;00mtrail\u001b[38;5;132;01m}\u001b[39;00m\u001b[38;5;124m_rotations.csv\u001b[39m\u001b[38;5;124m\"\u001b[39m,index\u001b[38;5;241m=\u001b[39m\u001b[38;5;28;01mFalse\u001b[39;00m)\n\u001b[0;32m---> 49\u001b[0m \u001b[43mrotation_download\u001b[49m\u001b[43m(\u001b[49m\u001b[43mps\u001b[49m\u001b[38;5;241;43m=\u001b[39;49m\u001b[38;5;28;43;01mTrue\u001b[39;49;00m\u001b[43m)\u001b[49m\n",
      "Cell \u001b[0;32mIn[4], line 45\u001b[0m, in \u001b[0;36mrotation_download\u001b[0;34m(ps)\u001b[0m\n\u001b[1;32m     39\u001b[0m     \u001b[38;5;28;01mexcept\u001b[39;00m HTTPError \u001b[38;5;28;01mas\u001b[39;00m e:  \u001b[38;5;66;03m# Catch HTTPError, which includes 404, 500, etc.\u001b[39;00m\n\u001b[1;32m     40\u001b[0m         \u001b[38;5;66;03m#print(f\"Could not read data from: {url}\")\u001b[39;00m\n\u001b[1;32m     41\u001b[0m         \u001b[38;5;66;03m#print(f\"Error: {e}\")  # Print the specific error message\u001b[39;00m\n\u001b[1;32m     42\u001b[0m         \u001b[38;5;66;03m# You might want to log this error or take other actions, like trying a different URL\u001b[39;00m\n\u001b[1;32m     43\u001b[0m         \u001b[38;5;28;01mcontinue\u001b[39;00m  \u001b[38;5;66;03m# Skip to the next team\u001b[39;00m\n\u001b[0;32m---> 45\u001b[0m rotations_df \u001b[38;5;241m=\u001b[39m \u001b[43mpd\u001b[49m\u001b[38;5;241;43m.\u001b[39;49m\u001b[43mconcat\u001b[49m\u001b[43m(\u001b[49m\u001b[43mrotations\u001b[49m\u001b[43m)\u001b[49m\n\u001b[1;32m     48\u001b[0m rotations_df\u001b[38;5;241m.\u001b[39mto_csv(\u001b[38;5;124mf\u001b[39m\u001b[38;5;124m\"\u001b[39m\u001b[38;5;132;01m{\u001b[39;00myear\u001b[38;5;132;01m}\u001b[39;00m\u001b[38;5;132;01m{\u001b[39;00mtrail\u001b[38;5;132;01m}\u001b[39;00m\u001b[38;5;124m_rotations.csv\u001b[39m\u001b[38;5;124m\"\u001b[39m,index\u001b[38;5;241m=\u001b[39m\u001b[38;5;28;01mFalse\u001b[39;00m)\n",
      "File \u001b[0;32m~/.local/lib/python3.10/site-packages/pandas/util/_decorators.py:331\u001b[0m, in \u001b[0;36mdeprecate_nonkeyword_arguments.<locals>.decorate.<locals>.wrapper\u001b[0;34m(*args, **kwargs)\u001b[0m\n\u001b[1;32m    325\u001b[0m \u001b[38;5;28;01mif\u001b[39;00m \u001b[38;5;28mlen\u001b[39m(args) \u001b[38;5;241m>\u001b[39m num_allow_args:\n\u001b[1;32m    326\u001b[0m     warnings\u001b[38;5;241m.\u001b[39mwarn(\n\u001b[1;32m    327\u001b[0m         msg\u001b[38;5;241m.\u001b[39mformat(arguments\u001b[38;5;241m=\u001b[39m_format_argument_list(allow_args)),\n\u001b[1;32m    328\u001b[0m         \u001b[38;5;167;01mFutureWarning\u001b[39;00m,\n\u001b[1;32m    329\u001b[0m         stacklevel\u001b[38;5;241m=\u001b[39mfind_stack_level(),\n\u001b[1;32m    330\u001b[0m     )\n\u001b[0;32m--> 331\u001b[0m \u001b[38;5;28;01mreturn\u001b[39;00m \u001b[43mfunc\u001b[49m\u001b[43m(\u001b[49m\u001b[38;5;241;43m*\u001b[39;49m\u001b[43margs\u001b[49m\u001b[43m,\u001b[49m\u001b[43m \u001b[49m\u001b[38;5;241;43m*\u001b[39;49m\u001b[38;5;241;43m*\u001b[39;49m\u001b[43mkwargs\u001b[49m\u001b[43m)\u001b[49m\n",
      "File \u001b[0;32m~/.local/lib/python3.10/site-packages/pandas/core/reshape/concat.py:368\u001b[0m, in \u001b[0;36mconcat\u001b[0;34m(objs, axis, join, ignore_index, keys, levels, names, verify_integrity, sort, copy)\u001b[0m\n\u001b[1;32m    146\u001b[0m \u001b[38;5;129m@deprecate_nonkeyword_arguments\u001b[39m(version\u001b[38;5;241m=\u001b[39m\u001b[38;5;28;01mNone\u001b[39;00m, allowed_args\u001b[38;5;241m=\u001b[39m[\u001b[38;5;124m\"\u001b[39m\u001b[38;5;124mobjs\u001b[39m\u001b[38;5;124m\"\u001b[39m])\n\u001b[1;32m    147\u001b[0m \u001b[38;5;28;01mdef\u001b[39;00m \u001b[38;5;21mconcat\u001b[39m(\n\u001b[1;32m    148\u001b[0m     objs: Iterable[NDFrame] \u001b[38;5;241m|\u001b[39m Mapping[HashableT, NDFrame],\n\u001b[0;32m   (...)\u001b[0m\n\u001b[1;32m    157\u001b[0m     copy: \u001b[38;5;28mbool\u001b[39m \u001b[38;5;241m=\u001b[39m \u001b[38;5;28;01mTrue\u001b[39;00m,\n\u001b[1;32m    158\u001b[0m ) \u001b[38;5;241m-\u001b[39m\u001b[38;5;241m>\u001b[39m DataFrame \u001b[38;5;241m|\u001b[39m Series:\n\u001b[1;32m    159\u001b[0m \u001b[38;5;250m    \u001b[39m\u001b[38;5;124;03m\"\"\"\u001b[39;00m\n\u001b[1;32m    160\u001b[0m \u001b[38;5;124;03m    Concatenate pandas objects along a particular axis.\u001b[39;00m\n\u001b[1;32m    161\u001b[0m \n\u001b[0;32m   (...)\u001b[0m\n\u001b[1;32m    366\u001b[0m \u001b[38;5;124;03m    1   3   4\u001b[39;00m\n\u001b[1;32m    367\u001b[0m \u001b[38;5;124;03m    \"\"\"\u001b[39;00m\n\u001b[0;32m--> 368\u001b[0m     op \u001b[38;5;241m=\u001b[39m \u001b[43m_Concatenator\u001b[49m\u001b[43m(\u001b[49m\n\u001b[1;32m    369\u001b[0m \u001b[43m        \u001b[49m\u001b[43mobjs\u001b[49m\u001b[43m,\u001b[49m\n\u001b[1;32m    370\u001b[0m \u001b[43m        \u001b[49m\u001b[43maxis\u001b[49m\u001b[38;5;241;43m=\u001b[39;49m\u001b[43maxis\u001b[49m\u001b[43m,\u001b[49m\n\u001b[1;32m    371\u001b[0m \u001b[43m        \u001b[49m\u001b[43mignore_index\u001b[49m\u001b[38;5;241;43m=\u001b[39;49m\u001b[43mignore_index\u001b[49m\u001b[43m,\u001b[49m\n\u001b[1;32m    372\u001b[0m \u001b[43m        \u001b[49m\u001b[43mjoin\u001b[49m\u001b[38;5;241;43m=\u001b[39;49m\u001b[43mjoin\u001b[49m\u001b[43m,\u001b[49m\n\u001b[1;32m    373\u001b[0m \u001b[43m        \u001b[49m\u001b[43mkeys\u001b[49m\u001b[38;5;241;43m=\u001b[39;49m\u001b[43mkeys\u001b[49m\u001b[43m,\u001b[49m\n\u001b[1;32m    374\u001b[0m \u001b[43m        \u001b[49m\u001b[43mlevels\u001b[49m\u001b[38;5;241;43m=\u001b[39;49m\u001b[43mlevels\u001b[49m\u001b[43m,\u001b[49m\n\u001b[1;32m    375\u001b[0m \u001b[43m        \u001b[49m\u001b[43mnames\u001b[49m\u001b[38;5;241;43m=\u001b[39;49m\u001b[43mnames\u001b[49m\u001b[43m,\u001b[49m\n\u001b[1;32m    376\u001b[0m \u001b[43m        \u001b[49m\u001b[43mverify_integrity\u001b[49m\u001b[38;5;241;43m=\u001b[39;49m\u001b[43mverify_integrity\u001b[49m\u001b[43m,\u001b[49m\n\u001b[1;32m    377\u001b[0m \u001b[43m        \u001b[49m\u001b[43mcopy\u001b[49m\u001b[38;5;241;43m=\u001b[39;49m\u001b[43mcopy\u001b[49m\u001b[43m,\u001b[49m\n\u001b[1;32m    378\u001b[0m \u001b[43m        \u001b[49m\u001b[43msort\u001b[49m\u001b[38;5;241;43m=\u001b[39;49m\u001b[43msort\u001b[49m\u001b[43m,\u001b[49m\n\u001b[1;32m    379\u001b[0m \u001b[43m    \u001b[49m\u001b[43m)\u001b[49m\n\u001b[1;32m    381\u001b[0m     \u001b[38;5;28;01mreturn\u001b[39;00m op\u001b[38;5;241m.\u001b[39mget_result()\n",
      "File \u001b[0;32m~/.local/lib/python3.10/site-packages/pandas/core/reshape/concat.py:425\u001b[0m, in \u001b[0;36m_Concatenator.__init__\u001b[0;34m(self, objs, axis, join, keys, levels, names, ignore_index, verify_integrity, copy, sort)\u001b[0m\n\u001b[1;32m    422\u001b[0m     objs \u001b[38;5;241m=\u001b[39m \u001b[38;5;28mlist\u001b[39m(objs)\n\u001b[1;32m    424\u001b[0m \u001b[38;5;28;01mif\u001b[39;00m \u001b[38;5;28mlen\u001b[39m(objs) \u001b[38;5;241m==\u001b[39m \u001b[38;5;241m0\u001b[39m:\n\u001b[0;32m--> 425\u001b[0m     \u001b[38;5;28;01mraise\u001b[39;00m \u001b[38;5;167;01mValueError\u001b[39;00m(\u001b[38;5;124m\"\u001b[39m\u001b[38;5;124mNo objects to concatenate\u001b[39m\u001b[38;5;124m\"\u001b[39m)\n\u001b[1;32m    427\u001b[0m \u001b[38;5;28;01mif\u001b[39;00m keys \u001b[38;5;129;01mis\u001b[39;00m \u001b[38;5;28;01mNone\u001b[39;00m:\n\u001b[1;32m    428\u001b[0m     objs \u001b[38;5;241m=\u001b[39m \u001b[38;5;28mlist\u001b[39m(com\u001b[38;5;241m.\u001b[39mnot_none(\u001b[38;5;241m*\u001b[39mobjs))\n",
      "\u001b[0;31mValueError\u001b[0m: No objects to concatenate"
     ]
    }
   ],
   "source": [
    "\n",
    "import requests\n",
    "import pandas as pd\n",
    "import numpy as np\n",
    "import json\n",
    "import time\n",
    "import datetime\n",
    "import os\n",
    "from datetime import timedelta\n",
    "from urllib.error import HTTPError\n",
    "def get_team_dict():\n",
    "    \"\"\"Returns a dictionary mapping team abbreviations to team IDs.\"\"\"\n",
    "    return {\n",
    "        'ATL': '1610612737', 'BKN': '1610612751', 'BOS': '1610612738', 'CHA': '1610612766',\n",
    "        'CHI': '1610612741', 'CLE': '1610612739', 'DAL': '1610612742', 'DEN': '1610612743',\n",
    "        'DET': '1610612765', 'GSW': '1610612744', 'HOU': '1610612745', 'IND': '1610612754',\n",
    "        'LAC': '1610612746', 'LAL': '1610612747', 'MEM': '1610612763', 'MIA': '1610612748',\n",
    "        'MIL': '1610612749', 'MIN': '1610612750', 'NOP': '1610612740', 'NYK': '1610612752',\n",
    "        'OKC': '1610612760', 'ORL': '1610612753', 'PHI': '1610612755', 'PHX': '1610612756',\n",
    "        'POR': '1610612757', 'SAC': '1610612758', 'SAS': '1610612759', 'TOR': '1610612761',\n",
    "        'UTA': '1610612762', 'WAS': '1610612764'\n",
    "    }\n",
    "def rotation_download(ps=False):\n",
    "    if ps:\n",
    "        trail = 'ps'\n",
    "    else:\n",
    "        trail = ''\n",
    "    team_dict=get_team_dict()\n",
    "    for year in range(2014,2025):\n",
    "        rotations=[]\n",
    "\n",
    "        for team in team_dict.keys():\n",
    "            url = f\"https://raw.githubusercontent.com/gabriel1200/shot_data/refs/heads/master/rotations/{year}{trail}/{team_dict[team]}.csv\"\n",
    "            #print(url)\n",
    "            try:\n",
    "                df = pd.read_csv(url)\n",
    "                rotations.append(df)\n",
    "                print(f\"Successfully read data from: {url}\")  # Optional: Confirmation message\n",
    "\n",
    "            except HTTPError as e:  # Catch HTTPError, which includes 404, 500, etc.\n",
    "                #print(f\"Could not read data from: {url}\")\n",
    "                #print(f\"Error: {e}\")  # Print the specific error message\n",
    "                # You might want to log this error or take other actions, like trying a different URL\n",
    "                continue  # Skip to the next team\n",
    "\n",
    "        rotations_df = pd.concat(rotations)\n",
    "\n",
    "\n",
    "        rotations_df.to_csv(f\"{year}{trail}_rotations.csv\",index=False)\n",
    "rotation_download(ps=True)"
   ]
  }
 ],
 "metadata": {
  "kernelspec": {
   "display_name": "Python 3",
   "language": "python",
   "name": "python3"
  },
  "language_info": {
   "codemirror_mode": {
    "name": "ipython",
    "version": 3
   },
   "file_extension": ".py",
   "mimetype": "text/x-python",
   "name": "python",
   "nbconvert_exporter": "python",
   "pygments_lexer": "ipython3",
   "version": "3.10.12"
  }
 },
 "nbformat": 4,
 "nbformat_minor": 2
}
