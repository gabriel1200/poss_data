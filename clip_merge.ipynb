{
 "cells": [
  {
   "cell_type": "code",
   "execution_count": 1,
   "metadata": {},
   "outputs": [],
   "source": [
    "\n",
    "import requests\n",
    "import pandas as pd\n",
    "import numpy as np\n",
    "import json\n",
    "import time\n",
    "import datetime\n",
    "import os\n",
    "from datetime import timedelta\n",
    "\n",
    "def get_team_dict():\n",
    "    \"\"\"Returns a dictionary mapping team abbreviations to team IDs.\"\"\"\n",
    "    return {\n",
    "        'ATL': '1610612737', 'BKN': '1610612751', 'BOS': '1610612738', 'CHA': '1610612766',\n",
    "        'CHI': '1610612741', 'CLE': '1610612739', 'DAL': '1610612742', 'DEN': '1610612743',\n",
    "        'DET': '1610612765', 'GSW': '1610612744', 'HOU': '1610612745', 'IND': '1610612754',\n",
    "        'LAC': '1610612746', 'LAL': '1610612747', 'MEM': '1610612763', 'MIA': '1610612748',\n",
    "        'MIL': '1610612749', 'MIN': '1610612750', 'NOP': '1610612740', 'NYK': '1610612752',\n",
    "        'OKC': '1610612760', 'ORL': '1610612753', 'PHI': '1610612755', 'PHX': '1610612756',\n",
    "        'POR': '1610612757', 'SAC': '1610612758', 'SAS': '1610612759', 'TOR': '1610612761',\n",
    "        'UTA': '1610612762', 'WAS': '1610612764'\n",
    "    }\n",
    "def rotation_download(ps=False):\n",
    "    if ps:\n",
    "        trail = '_ps'\n",
    "    else:\n",
    "        trail = ''\n",
    "    team_dict=get_team_dict()\n",
    "    for year in range(2014,2025):\n",
    "        rotations=[]\n",
    "\n",
    "        for team in team_dict.keys():\n",
    "            url = f\"https://raw.githubusercontent.com/gabriel1200/shot_data/refs/heads/master/rotations/{year}/{team_dict[team]}{trail}.csv\"\n",
    "            try:\n",
    "                df = pd.read_csv(url)\n",
    "                rotations.append(df)\n",
    "                print(f\"Successfully read data from: {url}\")  # Optional: Confirmation message\n",
    "\n",
    "            except HTTPError as e:  # Catch HTTPError, which includes 404, 500, etc.\n",
    "                #print(f\"Could not read data from: {url}\")\n",
    "                #print(f\"Error: {e}\")  # Print the specific error message\n",
    "                # You might want to log this error or take other actions, like trying a different URL\n",
    "                continue  # Skip to the next team\n",
    "\n",
    "        rotations_df = pd.concat(rotations)\n",
    "\n",
    "\n",
    "        rotations_df.to_csv(f\"{year}{trail}_rotations.csv\",index=False)\n",
    "rotation_download(ps=True)"
   ]
  }
 ],
 "metadata": {
  "kernelspec": {
   "display_name": "Python 3",
   "language": "python",
   "name": "python3"
  },
  "language_info": {
   "codemirror_mode": {
    "name": "ipython",
    "version": 3
   },
   "file_extension": ".py",
   "mimetype": "text/x-python",
   "name": "python",
   "nbconvert_exporter": "python",
   "pygments_lexer": "ipython3",
   "version": "3.10.12"
  }
 },
 "nbformat": 4,
 "nbformat_minor": 2
}
